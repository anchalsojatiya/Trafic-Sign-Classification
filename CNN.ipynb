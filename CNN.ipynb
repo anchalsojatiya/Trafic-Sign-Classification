{
 "cells": [
  {
   "cell_type": "code",
   "execution_count": 1,
   "metadata": {},
   "outputs": [],
   "source": [
    "#Loading necessary libraraies\n",
    "import numpy as np \n",
    "import pandas as pd \n",
    "import matplotlib.pyplot as plt\n",
    "import time\n",
    "import tensorflow as tf\n",
    "from PIL import Image\n",
    "from sklearn.preprocessing import normalize\n",
    "from skimage.io import imread\n",
    "import os\n",
    "import torch\n",
    "import torchvision\n",
    "import torchvision.transforms as transforms\n",
    "from torch.autograd import Variable\n",
    "from torch.nn import Linear, ReLU, CrossEntropyLoss, Sequential, Conv2d, MaxPool2d, Module, Softmax, BatchNorm2d, Dropout\n",
    "from torch.optim import Adam, SGD\n",
    "from torchvision.datasets.folder import default_loader\n",
    "from torch.utils import data\n",
    "import torch.optim as optim\n",
    "import cv2\n",
    "import random"
   ]
  },
  {
   "cell_type": "code",
   "execution_count": 2,
   "metadata": {},
   "outputs": [
    {
     "data": {
      "text/html": [
       "<div>\n",
       "<style scoped>\n",
       "    .dataframe tbody tr th:only-of-type {\n",
       "        vertical-align: middle;\n",
       "    }\n",
       "\n",
       "    .dataframe tbody tr th {\n",
       "        vertical-align: top;\n",
       "    }\n",
       "\n",
       "    .dataframe thead th {\n",
       "        text-align: right;\n",
       "    }\n",
       "</style>\n",
       "<table border=\"1\" class=\"dataframe\">\n",
       "  <thead>\n",
       "    <tr style=\"text-align: right;\">\n",
       "      <th></th>\n",
       "      <th>Path</th>\n",
       "      <th>ClassId</th>\n",
       "      <th>ShapeId</th>\n",
       "      <th>ColorId</th>\n",
       "      <th>SignId</th>\n",
       "    </tr>\n",
       "  </thead>\n",
       "  <tbody>\n",
       "    <tr>\n",
       "      <td>0</td>\n",
       "      <td>Meta/27.png</td>\n",
       "      <td>27</td>\n",
       "      <td>0</td>\n",
       "      <td>0</td>\n",
       "      <td>1.32</td>\n",
       "    </tr>\n",
       "    <tr>\n",
       "      <td>1</td>\n",
       "      <td>Meta/0.png</td>\n",
       "      <td>0</td>\n",
       "      <td>1</td>\n",
       "      <td>0</td>\n",
       "      <td>3.29</td>\n",
       "    </tr>\n",
       "    <tr>\n",
       "      <td>2</td>\n",
       "      <td>Meta/1.png</td>\n",
       "      <td>1</td>\n",
       "      <td>1</td>\n",
       "      <td>0</td>\n",
       "      <td>3.29</td>\n",
       "    </tr>\n",
       "    <tr>\n",
       "      <td>3</td>\n",
       "      <td>Meta/10.png</td>\n",
       "      <td>10</td>\n",
       "      <td>1</td>\n",
       "      <td>0</td>\n",
       "      <td>3.27</td>\n",
       "    </tr>\n",
       "    <tr>\n",
       "      <td>4</td>\n",
       "      <td>Meta/11.png</td>\n",
       "      <td>11</td>\n",
       "      <td>0</td>\n",
       "      <td>0</td>\n",
       "      <td>1.22</td>\n",
       "    </tr>\n",
       "  </tbody>\n",
       "</table>\n",
       "</div>"
      ],
      "text/plain": [
       "          Path  ClassId  ShapeId  ColorId SignId\n",
       "0  Meta/27.png       27        0        0   1.32\n",
       "1   Meta/0.png        0        1        0   3.29\n",
       "2   Meta/1.png        1        1        0   3.29\n",
       "3  Meta/10.png       10        1        0   3.27\n",
       "4  Meta/11.png       11        0        0   1.22"
      ]
     },
     "execution_count": 2,
     "metadata": {},
     "output_type": "execute_result"
    }
   ],
   "source": [
    "# loading dataset\n",
    "train = pd.read_csv('Train.csv')\n",
    "train.head()\n",
    "test = pd.read_csv('Test.csv')\n",
    "test.head()\n",
    "meta_data = pd.read_csv('Meta.csv')\n",
    "meta_data.head()"
   ]
  },
  {
   "cell_type": "code",
   "execution_count": 3,
   "metadata": {},
   "outputs": [
    {
     "data": {
      "text/plain": [
       "(39209, 32, 32, 3)"
      ]
     },
     "execution_count": 3,
     "metadata": {},
     "output_type": "execute_result"
    }
   ],
   "source": [
    "#loading train images to numpy array\n",
    "random.seed(123 )\n",
    "train_x=[]\n",
    "for i in train['Path']:\n",
    "    try:\n",
    "        img = Image.fromarray(cv2.imread(i), 'RGB') #reading image\n",
    "        train_x.append(np.array(img.resize((32, 32)))) #converting to numpy and append to list\n",
    "    except AttributeError:\n",
    "        print(\"Error in loading image\")\n",
    "\n",
    "\n",
    "train_x=np.array(train_x)\n",
    "train_y = np.array(train['ClassId'].values) #storing class labels in list\n",
    "train_x.astype(float)\n",
    "train_x.shape"
   ]
  },
  {
   "cell_type": "code",
   "execution_count": 4,
   "metadata": {},
   "outputs": [
    {
     "data": {
      "text/plain": [
       "(12630, 32, 32, 3)"
      ]
     },
     "execution_count": 4,
     "metadata": {},
     "output_type": "execute_result"
    }
   ],
   "source": [
    "#loading test images to numpy array\n",
    "random.seed(123)\n",
    "test_x=[]\n",
    "for i in test['Path']:\n",
    "    try:\n",
    "        img = Image.fromarray(cv2.imread(i), 'RGB') #reading image\n",
    "        test_x.append(np.array(img.resize((32, 32)))) #converting to numpy and append to list\n",
    "    except AttributeError:\n",
    "        print(\"Error in loading image\")\n",
    "\n",
    "\n",
    "\n",
    "test_x=np.array(test_x)\n",
    "test_y = np.array(test['ClassId'].values)  #storing class labels in list\n",
    "test_x.astype(float)\n",
    "test_x.shape"
   ]
  },
  {
   "cell_type": "code",
   "execution_count": 6,
   "metadata": {},
   "outputs": [],
   "source": [
    "#normalizing data\n",
    "train_x_min = train_x.min(axis=(0, 1), keepdims=True)\n",
    "train_x_max = train_x.max(axis=(0, 1), keepdims=True)\n",
    "train_x=(train_x - train_x_min)/(train_x_max - train_x_min)\n",
    "\n",
    "test_x_min = test_x.min(axis=(0, 1), keepdims=True)\n",
    "test_x_max = test_x.max(axis=(0, 1), keepdims=True)\n",
    "test_x=(test_x - test_x_min)/(test_x_max - test_x_min)\n"
   ]
  },
  {
   "cell_type": "code",
   "execution_count": 7,
   "metadata": {},
   "outputs": [],
   "source": [
    "# transform to torch tensor\n",
    "\n",
    "tensor_x = torch.Tensor(train_x)\n",
    "# converting from tensor batch-height-width-channel dimenssion to \n",
    "# pytorch tensor expected dimension batch-channel-height-width\n",
    "tensor_x=tensor_x.permute(0, 3, 1, 2)\n",
    "tensor_y = torch.Tensor(train_y)\n",
    "tensor_x_test = torch.Tensor(test_x) \n",
    "tensor_x_test=tensor_x_test.permute(0, 3, 1, 2)\n",
    "tensor_y_test = torch.Tensor(test_y)\n",
    "\n",
    "my_dataset_x = data.TensorDataset(tensor_x) # create your datset\n",
    "my_dataset_y = data.TensorDataset(tensor_y) # create your datset\n",
    "my_dataset_x_test = data.TensorDataset(tensor_x_test) # create your datset\n",
    "my_dataset_y_test = data.TensorDataset(tensor_y_test) # create your datset"
   ]
  },
  {
   "cell_type": "code",
   "execution_count": 8,
   "metadata": {},
   "outputs": [
    {
     "data": {
      "text/plain": [
       "torch.Size([39209, 3, 32, 32])"
      ]
     },
     "execution_count": 8,
     "metadata": {},
     "output_type": "execute_result"
    }
   ],
   "source": [
    "tensor_x.size()"
   ]
  },
  {
   "cell_type": "code",
   "execution_count": null,
   "metadata": {},
   "outputs": [],
   "source": []
  },
  {
   "cell_type": "code",
   "execution_count": 9,
   "metadata": {},
   "outputs": [],
   "source": [
    "#loading dataset\n",
    "trainloader_x = torch.utils.data.DataLoader(my_dataset_x)\n",
    "trainloader_y = torch.utils.data.DataLoader(my_dataset_y)\n",
    "testloader_x = torch.utils.data.DataLoader(my_dataset_x_test)\n",
    "testloader_y = torch.utils.data.DataLoader(my_dataset_y_test)\n"
   ]
  },
  {
   "cell_type": "code",
   "execution_count": 10,
   "metadata": {},
   "outputs": [],
   "source": [
    "import torch.nn as nn\n",
    "import torch.nn.functional as F\n",
    "\n",
    "class UNet(nn.Module):\n",
    "    def __init__(self):\n",
    "        super(UNet, self).__init__()\n",
    "        self.conv1 = nn.Conv2d(3, 32, kernel_size=5)\n",
    "        self.dropout1 = nn.Dropout(p=0.2)\n",
    "        self.pool1 = nn.MaxPool2d(2,2)\n",
    "        self.conv2 = nn.Conv2d(32, 64, kernel_size=3)\n",
    "        self.pool2 = nn.MaxPool2d(2,2)\n",
    "        self.dropout2 = nn.Dropout(p=0.25)\n",
    "        self.fc1 = nn.Linear(1 * 48 * 48, 256)\n",
    "        self.fc2 = nn.Linear(256, 43)\n",
    "\n",
    "    def forward(self, x):\n",
    "        x = self.pool1(F.relu(self.conv1(x)))\n",
    "        x = self.dropout1(x)\n",
    "        x = self.pool2(F.relu(self.conv2(x)))\n",
    "        x = self.dropout2(x)\n",
    "        x = x.view(-1,1 * 48 * 48)\n",
    "        x = F.relu(self.fc1(x))\n",
    "        x = self.fc2(x)\n",
    "        return x\n",
    "\n",
    "net = UNet()\n"
   ]
  },
  {
   "cell_type": "code",
   "execution_count": 11,
   "metadata": {},
   "outputs": [],
   "source": [
    "criterion = nn.CrossEntropyLoss()\n",
    "optimizer = optim.SGD(net.parameters(), lr=0.001)"
   ]
  },
  {
   "cell_type": "code",
   "execution_count": 12,
   "metadata": {},
   "outputs": [
    {
     "name": "stdout",
     "output_type": "stream",
     "text": [
      "Epoch [1/5],Train Accuracy: 95.94% , Test Accuracy:  0.71%\n",
      "Epoch [2/5],Train Accuracy: 96.36% , Test Accuracy:  0.71%\n",
      "Epoch [3/5],Train Accuracy: 96.78% , Test Accuracy:  0.71%\n",
      "Epoch [4/5],Train Accuracy: 97.11% , Test Accuracy:  0.71%\n",
      "Epoch [5/5],Train Accuracy: 97.34% , Test Accuracy:  0.71%\n"
     ]
    },
    {
     "data": {
      "text/plain": [
       "<matplotlib.legend.Legend at 0x2064e00a288>"
      ]
     },
     "execution_count": 12,
     "metadata": {},
     "output_type": "execute_result"
    },
    {
     "data": {
      "image/png": "[encoded data removed]",
      "text/plain": [
       "<Figure size 432x288 with 1 Axes>"
      ]
     },
     "metadata": {
      "needs_background": "light"
     },
     "output_type": "display_data"
    }
   ],
   "source": [
    "random.seed(100)\n",
    "num_epochs=5\n",
    "train_accuracy=[]\n",
    "test_accuracy=[]\n",
    "epochs=[]\n",
    "total_train = 0\n",
    "correct_train = 0\n",
    "correct_test = 0\n",
    "total_test = 0\n",
    "for epoch in range(num_epochs):  # loop over the dataset multiple times\n",
    "    running_loss = 0.0\n",
    "    net.train()\n",
    "    for i, (data, data2) in enumerate(zip(trainloader_x,trainloader_y), 0):\n",
    "        \n",
    "        # get the inputs and labels\n",
    "        inputs= data[0][0]\n",
    "        labels=data2[0].type(torch.LongTensor)\n",
    "        # zero the parameter gradients\n",
    "        optimizer.zero_grad()\n",
    "\n",
    "        # forward + backward + optimize\n",
    "        outputs = net(inputs[None,...])\n",
    "        loss = criterion(outputs, labels)\n",
    "        loss.backward()\n",
    "        optimizer.step()\n",
    "        \n",
    "        #Calculate train accuracy\n",
    "        _, predicted = torch.max(outputs.data, 1)\n",
    "        total_train += labels.nelement()\n",
    "        correct_train += predicted.eq(labels.data).sum().item()\n",
    "        train_acc = 100 * correct_train / total_train\n",
    "        \n",
    "        running_loss += loss.item()\n",
    "    \n",
    "    \n",
    "    with torch.no_grad():\n",
    "        net.eval()\n",
    "        for i,(data_test, data2_test) in enumerate(zip(testloader_x,testloader_y),0):\n",
    "            test_inputs= data_test[0][0]\n",
    "            test_labels=data2_test[0].type(torch.LongTensor)\n",
    "            outputs_test = net(test_inputs[None,...])\n",
    "            \n",
    "             #Calculate test accuracy\n",
    "            _, predicted_test = torch.max(outputs_test.data, 1)\n",
    "            total_test += test_labels.nelement()\n",
    "            correct_test += predicted_test.eq(test_labels.data).sum().item()\n",
    "            test_acc = 100 * correct_test / total_test\n",
    "        \n",
    "    train_accuracy.append(train_acc)    \n",
    "    epochs.append(epoch)         \n",
    "    test_accuracy.append(test_acc)    \n",
    "    print('Epoch [{}/{}],Train Accuracy: {:.2f}% , Test Accuracy:  {:.2f}%'\n",
    "        .format(epoch + 1, num_epochs,\n",
    "                train_acc,test_acc))\n",
    "    \n",
    "plt.plot(train_accuracy, label='Train Accuracy')\n",
    "plt.plot(test_accuracy, label='Test Accuracy')\n",
    "plt.legend()"
   ]
  },
  {
   "cell_type": "code",
   "execution_count": null,
   "metadata": {},
   "outputs": [],
   "source": [
    "# Test overall accuracy of the model\n",
    "net.eval()\n",
    "correct = 0\n",
    "total = 0\n",
    "with torch.no_grad():\n",
    "    for i,(data, data2) in enumerate(zip(testloader_x,testloader_y),0):\n",
    "        inputs= data[0][0]\n",
    "        labels=data2[0].type(torch.LongTensor)\n",
    "        \n",
    "        outputs = net(inputs[None,...])\n",
    "        _, predicted = torch.max(outputs.data, 1)\n",
    "        total += labels.nelement()\n",
    "        correct += predicted.eq(labels.data).sum().item()\n",
    "\n",
    "    print('Test Accuracy of the model on  test images: {} %'.format((correct / total) * 100))\n",
    "    print(correct)\n",
    "    print(total)\n",
    "    "
   ]
  }
 ],
 "metadata": {
  "kernelspec": {
   "display_name": "Python 3",
   "language": "python",
   "name": "python3"
  },
  "language_info": {
   "codemirror_mode": {
    "name": "ipython",
    "version": 3
   },
   "file_extension": ".py",
   "mimetype": "text/x-python",
   "name": "python",
   "nbconvert_exporter": "python",
   "pygments_lexer": "ipython3",
   "version": "3.7.4"
  }
 },
 "nbformat": 4,
 "nbformat_minor": 2
}
