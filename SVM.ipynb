{
 "cells": [
  {
   "cell_type": "code",
   "execution_count": 1,
   "metadata": {},
   "outputs": [],
   "source": [
    "import numpy as np \n",
    "import pandas as pd \n",
    "import matplotlib.pyplot as plt\n",
    "import time\n",
    "import tensorflow as tf\n",
    "from PIL import Image\n",
    "from sklearn.model_selection import train_test_split\n",
    "from sklearn.decomposition import PCA\n",
    "from sklearn import metrics\n",
    "import os\n",
    "import torch\n",
    "import torchvision\n",
    "import torchvision.transforms as transforms\n",
    "from skimage.io import imread\n",
    "from sklearn import svm\n",
    "import cv2\n",
    "from sklearn import preprocessing\n"
   ]
  },
  {
   "cell_type": "code",
   "execution_count": 2,
   "metadata": {},
   "outputs": [
    {
     "data": {
      "text/html": [
       "<div>\n",
       "<style scoped>\n",
       "    .dataframe tbody tr th:only-of-type {\n",
       "        vertical-align: middle;\n",
       "    }\n",
       "\n",
       "    .dataframe tbody tr th {\n",
       "        vertical-align: top;\n",
       "    }\n",
       "\n",
       "    .dataframe thead th {\n",
       "        text-align: right;\n",
       "    }\n",
       "</style>\n",
       "<table border=\"1\" class=\"dataframe\">\n",
       "  <thead>\n",
       "    <tr style=\"text-align: right;\">\n",
       "      <th></th>\n",
       "      <th>Path</th>\n",
       "      <th>ClassId</th>\n",
       "      <th>ShapeId</th>\n",
       "      <th>ColorId</th>\n",
       "      <th>SignId</th>\n",
       "    </tr>\n",
       "  </thead>\n",
       "  <tbody>\n",
       "    <tr>\n",
       "      <td>0</td>\n",
       "      <td>Meta/27.png</td>\n",
       "      <td>27</td>\n",
       "      <td>0</td>\n",
       "      <td>0</td>\n",
       "      <td>1.32</td>\n",
       "    </tr>\n",
       "    <tr>\n",
       "      <td>1</td>\n",
       "      <td>Meta/0.png</td>\n",
       "      <td>0</td>\n",
       "      <td>1</td>\n",
       "      <td>0</td>\n",
       "      <td>3.29</td>\n",
       "    </tr>\n",
       "    <tr>\n",
       "      <td>2</td>\n",
       "      <td>Meta/1.png</td>\n",
       "      <td>1</td>\n",
       "      <td>1</td>\n",
       "      <td>0</td>\n",
       "      <td>3.29</td>\n",
       "    </tr>\n",
       "    <tr>\n",
       "      <td>3</td>\n",
       "      <td>Meta/10.png</td>\n",
       "      <td>10</td>\n",
       "      <td>1</td>\n",
       "      <td>0</td>\n",
       "      <td>3.27</td>\n",
       "    </tr>\n",
       "    <tr>\n",
       "      <td>4</td>\n",
       "      <td>Meta/11.png</td>\n",
       "      <td>11</td>\n",
       "      <td>0</td>\n",
       "      <td>0</td>\n",
       "      <td>1.22</td>\n",
       "    </tr>\n",
       "  </tbody>\n",
       "</table>\n",
       "</div>"
      ],
      "text/plain": [
       "          Path  ClassId  ShapeId  ColorId SignId\n",
       "0  Meta/27.png       27        0        0   1.32\n",
       "1   Meta/0.png        0        1        0   3.29\n",
       "2   Meta/1.png        1        1        0   3.29\n",
       "3  Meta/10.png       10        1        0   3.27\n",
       "4  Meta/11.png       11        0        0   1.22"
      ]
     },
     "execution_count": 2,
     "metadata": {},
     "output_type": "execute_result"
    }
   ],
   "source": [
    "# loading dataset\n",
    "train = pd.read_csv('Train.csv')\n",
    "train.head()\n",
    "test = pd.read_csv('Test.csv')\n",
    "test.head()\n",
    "# meta_data = pd.read_csv('Meta.csv')\n",
    "# meta_data.head()"
   ]
  },
  {
   "cell_type": "code",
   "execution_count": 3,
   "metadata": {},
   "outputs": [
    {
     "data": {
      "text/plain": [
       "(12630, 8)"
      ]
     },
     "execution_count": 3,
     "metadata": {},
     "output_type": "execute_result"
    }
   ],
   "source": [
    "test.shape\n"
   ]
  },
  {
   "cell_type": "code",
   "execution_count": 4,
   "metadata": {},
   "outputs": [
    {
     "data": {
      "text/plain": [
       "(39209, 32, 32, 3)"
      ]
     },
     "execution_count": 4,
     "metadata": {},
     "output_type": "execute_result"
    }
   ],
   "source": [
    "train_x=[]\n",
    "for i in train['Path']:\n",
    "    try:\n",
    "        img = Image.fromarray(cv2.imread(i), 'RGB')\n",
    "        train_x.append(np.array(img.resize((32, 32))))\n",
    "    except AttributeError:\n",
    "        print(\"Error in loading image\")\n",
    " \n",
    "#  defining the target\n",
    "train_x=np.array(train_x)\n",
    "train_y = np.array(train['ClassId'].values)\n",
    "train_x.shape"
   ]
  },
  {
   "cell_type": "code",
   "execution_count": 5,
   "metadata": {},
   "outputs": [
    {
     "data": {
      "text/plain": [
       "(12630, 32, 32, 3)"
      ]
     },
     "execution_count": 5,
     "metadata": {},
     "output_type": "execute_result"
    }
   ],
   "source": [
    "test_x=[]\n",
    "for i in test['Path']:\n",
    "    try:\n",
    "        img = Image.fromarray(cv2.imread(i), 'RGB')\n",
    "        test_x.append(np.array(img.resize((32, 32))))\n",
    "\n",
    "    except AttributeError:\n",
    "        print(\"Error in loading image\")\n",
    " \n",
    "\n",
    "# defining the target\n",
    "test_x=np.array(test_x)\n",
    "test_y = np.array(test['ClassId'].values)\n",
    "test_x.shape"
   ]
  },
  {
   "cell_type": "code",
   "execution_count": 6,
   "metadata": {},
   "outputs": [
    {
     "data": {
      "text/plain": [
       "(<matplotlib.axes._subplots.AxesSubplot at 0x237f70f9708>,\n",
       " <matplotlib.image.AxesImage at 0x237f6d8d448>)"
      ]
     },
     "execution_count": 6,
     "metadata": {},
     "output_type": "execute_result"
    },
    {
     "data": {
      "image/png": "[encoded data removed]",
      "text/plain": [
       "<Figure size 360x360 with 4 Axes>"
      ]
     },
     "metadata": {
      "needs_background": "light"
     },
     "output_type": "display_data"
    }
   ],
   "source": [
    "i = 0\n",
    "plt.figure(figsize=(5,5))\n",
    "plt.subplot(221), plt.imshow(train_x[i])\n",
    "plt.subplot(222), plt.imshow(train_x[i+5])\n",
    "plt.subplot(223), plt.imshow(train_x[i+25])\n",
    "plt.subplot(224), plt.imshow(train_x[i+521])"
   ]
  },
  {
   "cell_type": "code",
   "execution_count": 7,
   "metadata": {},
   "outputs": [
    {
     "data": {
      "text/plain": [
       "(((39209, 32, 32, 3), (39209,)), ((12630, 32, 32, 3), (12630,)))"
      ]
     },
     "execution_count": 7,
     "metadata": {},
     "output_type": "execute_result"
    }
   ],
   "source": [
    "# X_train, X_val, Y_train, Y_val = train_test_split(train_x, train_y, test_size = 0.2,random_state=123)\n",
    "(train_x.shape, train_y.shape), (test_x.shape, test_y.shape) "
   ]
  },
  {
   "cell_type": "code",
   "execution_count": 8,
   "metadata": {},
   "outputs": [],
   "source": [
    "train_x.resize(39209,3072)\n",
    "test_x.resize(12630,3072)\n",
    "train_x = preprocessing.scale(train_x)\n",
    "test_x = preprocessing.scale(test_x)\n"
   ]
  },
  {
   "cell_type": "code",
   "execution_count": 9,
   "metadata": {},
   "outputs": [],
   "source": [
    "clf = svm.NuSVC(nu=0.1,kernel='rbf',gamma=0.001,random_state=121) # random state 121\n",
    "# clf = svm.SVC(kernel='rbf',gamma=0.001,break_ties=True,decision_function_shape='ovo',C=0.001,probability=True,random_state=121,) # Linear Kernel"
   ]
  },
  {
   "cell_type": "code",
   "execution_count": null,
   "metadata": {},
   "outputs": [],
   "source": [
    "tic = time.clock()\n",
    "clf.fit(train_x, train_y)\n",
    "y_pred = clf.predict(test_x)\n",
    "\n",
    "toc = time.clock()\n",
    "toc - tic"
   ]
  },
  {
   "cell_type": "code",
   "execution_count": null,
   "metadata": {},
   "outputs": [],
   "source": [
    "acc_svm=metrics.accuracy_score(test_y,y_pred)*100 \n",
    "acc_svm"
   ]
  },
  {
   "cell_type": "code",
   "execution_count": null,
   "metadata": {},
   "outputs": [],
   "source": [
    "print(\"Classification report for classifier %s:\\n%s\\n\"\n",
    "      % (clf, metrics.classification_report(test_y, y_pred)))"
   ]
  }
 ],
 "metadata": {
  "kernelspec": {
   "display_name": "Python 3",
   "language": "python",
   "name": "python3"
  },
  "language_info": {
   "codemirror_mode": {
    "name": "ipython",
    "version": 3
   },
   "file_extension": ".py",
   "mimetype": "text/x-python",
   "name": "python",
   "nbconvert_exporter": "python",
   "pygments_lexer": "ipython3",
   "version": "3.7.4"
  }
 },
 "nbformat": 4,
 "nbformat_minor": 2
}
